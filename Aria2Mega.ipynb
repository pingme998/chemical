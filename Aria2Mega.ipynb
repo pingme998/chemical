{
 "cells": [
  {
   "cell_type": "code",
   "execution_count": null,
   "id": "binding-glance",
   "metadata": {},
   "outputs": [],
   "source": [
    "import warnings\n",
    "warnings.filterwarnings('ignore')\n",
    "\n",
    "import ipywidgets as widgets\n",
    "from IPython.display import display, clear_output"
   ]
  },
  {
   "cell_type": "code",
   "execution_count": null,
   "id": "informal-powell",
   "metadata": {},
   "outputs": [],
   "source": [
    "#!jupyter nbextension enable --py widgetsnbextension --sys-prefix\n",
    "#!jupyter serverextension enable voila --sys-prefix"
   ]
  },
  {
   "cell_type": "code",
   "execution_count": null,
   "id": "reflected-speaker",
   "metadata": {},
   "outputs": [],
   "source": [
    "# Image Widget\n",
    "\n",
    "file = open(\"Aria2Mega.jpg\", \"rb\")\n",
    "image = file.read()\n",
    "\n",
    "image_headline = widgets.Image(\n",
    "                    value=image,\n",
    "                    format='jpg',\n",
    "                    width='400'\n",
    "                )\n",
    "\n",
    "label_headline = widgets.Label(\n",
    "                    #value='Aria2Mega',\n",
    "                    #style={'description_width': 'large'}\n",
    "                )\n",
    "\n",
    "vbox_headline = widgets.VBox([label_headline])"
   ]
  },
  {
   "cell_type": "code",
   "execution_count": null,
   "id": "reverse-belfast",
   "metadata": {},
   "outputs": [],
   "source": [
    "# grandbutt/grandbuttonsdiasbled\n",
    "\n",
    "grand = widgets.ToggleButtons(\n",
    "            options=['x1', 'x2','x3','x4','x5','x6','x7','x8','x9','x10','x20']\n",
    "        )"
   ]
  },
  {
   "cell_type": "code",
   "execution_count": null,
   "id": "bearing-lover",
   "metadata": {},
   "outputs": [],
   "source": [
    "# magnet/url\n",
    "\n",
    "name = widgets.Text(placeholder='http://ser.ver.mp4 OR magnet:?xt=ur..annonce')"
   ]
  },
  {
   "cell_type": "code",
   "execution_count": null,
   "id": "64bea912",
   "metadata": {},
   "outputs": [],
   "source": [
    "# config\n",
    "username = widgets.Text(placeholder='username@gmail.com')"
   ]
  },
  {
   "cell_type": "code",
   "execution_count": null,
   "id": "e4910d73",
   "metadata": {},
   "outputs": [],
   "source": [
    "# name\n",
    "password = widgets.Text(placeholder='megapassword')"
   ]
  },
  {
   "cell_type": "code",
   "execution_count": null,
   "id": "headed-bloom",
   "metadata": {},
   "outputs": [],
   "source": [
    "#date = widgets.DatePicker(description='Pick a Date')"
   ]
  },
  {
   "cell_type": "code",
   "execution_count": null,
   "id": "naval-night",
   "metadata": {},
   "outputs": [],
   "source": [
    "# number of threads\n",
    "threats = widgets.IntSlider(\n",
    "            value=3, # default value\n",
    "            min=2, \n",
    "            max=10,\n",
    "            step=1,\n",
    "            style={'description_width': 'initial', 'handle_color': '#16a085'} \n",
    "        )"
   ]
  },
  {
   "cell_type": "code",
   "execution_count": null,
   "id": "thorough-royal",
   "metadata": {},
   "outputs": [],
   "source": [
    "# button send\n",
    "#CLOUDNAME = \n",
    "#cloudname = '' #@para\n",
    "button_send = widgets.Button(\n",
    "                description='START DOWNLOAD & UPLOAD',\n",
    "                tooltip='Send',\n",
    "                style={'description_width': '5000'}\n",
    "            )\n",
    "\n",
    "output = widgets.Output()\n",
    "\n",
    "def on_button_clicked(event):\n",
    "    with output:\n",
    "        clear_output()\n",
    "        #rclone version\n",
    "        %mkdir /home/d1\n",
    "        %cd /home/d1\n",
    "        %rm *\n",
    "        ! rclone config create 'CLOUDNAME' 'mega' 'user' {username.value} 'pass' {password.value}\n",
    "        ! rclone copy /Essential-Files/d CLOUDNAME:\n",
    "        ! aria2c -x{threats.value} '{name.value}'\n",
    "        ! rclone copy --progress --stats-one-line /home/d1 CLOUDNAME:\n",
    "        # aria2c -x10 {name.value}\n",
    "        print(f\"Your file uploaded to MEGA: {username.value} at {threats.value} x threads\")\n",
    "\n",
    "button_send.on_click(on_button_clicked)\n",
    "\n",
    "vbox_result = widgets.VBox([button_send, output])"
   ]
  },
  {
   "cell_type": "code",
   "execution_count": null,
   "id": "guilty-ending",
   "metadata": {},
   "outputs": [],
   "source": [
    "# stacked right hand side\n",
    "\n",
    "text_0 = widgets.HTML(value=\"<center><h1><u>Aria2Mega</u></h1></center>\")\n",
    "text_1 = widgets.HTML(value=\"<h4>Thread or Max connection Per download 👇</h4>\")\n",
    "line1 = widgets.HTML(value=\"<hr>\")\n",
    "btc= widgets.HTML(value=\"<h5>DONATE BTC: 1J48LksQNiASuj48nwYATXdFzQSwdrnx7c <br> Developed by developeranaz <br> Issues can be reported here <a> https://github.com/developeranaz/URL-TO-MEGA-HEROKU </a></h5>\")\n",
    "text_2= widgets.HTML(value=\"<h4>Type your MEGA Username here 👇 </h4>\")\n",
    "text_3= widgets.HTML(value=\"<h4>Type your Mega Password here 👇</h4>\")\n",
    "text_4= widgets.HTML(value=\"<h4>Paste magnet/direct links here 👇</h4>\")\n",
    "text_5= widgets.HTML(value=\"<h4>Click the download button below 👇</h4>\")\n",
    "\n",
    "vbox_text = widgets.VBox([image_headline, text_0, line1, text_4, name, line1, text_1, threats, line1, text_2, username, text_3, password, line1, text_5, vbox_result, btc])"
   ]
  },
  {
   "cell_type": "code",
   "execution_count": null,
   "id": "earlier-saturday",
   "metadata": {},
   "outputs": [],
   "source": [
    "page = widgets.HBox([vbox_headline, vbox_text])\n",
    "display(page)"
   ]
  },
  {
   "cell_type": "code",
   "execution_count": null,
   "id": "according-supervisor",
   "metadata": {},
   "outputs": [],
   "source": []
  }
 ],
 "metadata": {
  "kernelspec": {
   "display_name": "Python 3",
   "language": "python",
   "name": "python3"
  },
  "language_info": {
   "codemirror_mode": {
    "name": "ipython",
    "version": 3
   },
   "file_extension": ".py",
   "mimetype": "text/x-python",
   "name": "python",
   "nbconvert_exporter": "python",
   "pygments_lexer": "ipython3",
   "version": "3.9.2"
  }
 },
 "nbformat": 4,
 "nbformat_minor": 5
}
